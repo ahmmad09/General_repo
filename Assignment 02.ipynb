{
 "cells": [
  {
   "cell_type": "code",
   "execution_count": 38,
   "id": "e2ccbaf8",
   "metadata": {},
   "outputs": [],
   "source": [
    "import numpy as np\n",
    "import random"
   ]
  },
  {
   "cell_type": "code",
   "execution_count": 39,
   "id": "a5593beb",
   "metadata": {},
   "outputs": [],
   "source": [
    "def gen_list():\n",
    "    count=0\n",
    "    l = []\n",
    "    while(1):\n",
    "        t= random.randint(1,8)\n",
    "        count += 1\n",
    "        l.append(t)  \n",
    "        if(count > 7):\n",
    "            break\n",
    "    return l"
   ]
  },
  {
   "cell_type": "code",
   "execution_count": 40,
   "id": "6fbaa618",
   "metadata": {},
   "outputs": [],
   "source": [
    "def check_h(arr,p,s):\n",
    "    if(s==0):\n",
    "        s += 1\n",
    "        while(s<8):\n",
    "            if(arr[s] == p):\n",
    "                return False\n",
    "            else:\n",
    "                s += 1\n",
    "        return True    \n",
    "    else:\n",
    "        #checkbackwards\n",
    "        p1 = s\n",
    "        s -= 1\n",
    "        while(s>=0):\n",
    "            if(arr[s] == p):\n",
    "                return False\n",
    "            else:\n",
    "                s -= 1\n",
    "        # check forward\n",
    "        p1 += 1\n",
    "        while (p1<8):\n",
    "            if(arr[p1] == p):\n",
    "                return False\n",
    "            else:\n",
    "                p1 -= 1\n",
    "        return True       "
   ]
  },
  {
   "cell_type": "code",
   "execution_count": 41,
   "id": "40c53849",
   "metadata": {},
   "outputs": [],
   "source": [
    "def check_d(arr,s):\n",
    "    f1=0\n",
    "    for i in range(s+1,8):\n",
    "        f1 += 1\n",
    "        if((arr[i]==arr[i]-f1) or (arr[i] == arr[i] + f1)):\n",
    "            return False\n",
    "    f2 =0    \n",
    "    for k in range(s-1,-1,-1):\n",
    "        f2 += 1\n",
    "        if ((arr[k] == (arr[s]+f2))  or (arr[k] == (arr[s]-f2))):\n",
    "            return False\n",
    "    return True    "
   ]
  },
  {
   "cell_type": "code",
   "execution_count": 42,
   "id": "9fe6d32b",
   "metadata": {},
   "outputs": [],
   "source": [
    "\n",
    "def check_fit(pos):\n",
    "    count = 8\n",
    "    c1 =0   \n",
    "    for j in pos:\n",
    "        if(check_h(pos,j,c1) == False):\n",
    "            count -= 1\n",
    "        else:\n",
    "            if(check_d(pos,c1) == False):\n",
    "                count -= 1\n",
    "        c1 += 1\n",
    "    return count    "
   ]
  },
  {
   "cell_type": "code",
   "execution_count": 48,
   "id": "464e0db6",
   "metadata": {},
   "outputs": [],
   "source": [
    "def mutation(lis):\n",
    "    lis[random.randint(0,7)] = random.randint(1,8)\n",
    "    return lis"
   ]
  },
  {
   "cell_type": "code",
   "execution_count": 49,
   "id": "f3535f9b",
   "metadata": {},
   "outputs": [],
   "source": [
    "def Crossover(lis1,lis2):\n",
    "    new_list = []\n",
    "    for i in range(8):\n",
    "        if(i<4):\n",
    "            temp = lis1[i]\n",
    "            new_list.append(temp)\n",
    "        else:\n",
    "            temp1 = lis2[i]\n",
    "            new_list.append(temp1)\n",
    "    return new_list        \n",
    "        "
   ]
  },
  {
   "cell_type": "code",
   "execution_count": 50,
   "id": "4b206a2c",
   "metadata": {},
   "outputs": [],
   "source": [
    "def mutationAndCrossover(l1,l2,flag):\n",
    "    new_lst  = []\n",
    "    if(flag == False):\n",
    "        new_list = Crossover(l1,l2)\n",
    "        new_lst = mutation(new_lst)\n",
    "        return new_lst\n",
    "    else:\n",
    "        new_list = Crossover(l2,l1)\n",
    "        new_lst = mutation(new_lst)\n",
    "        return new_lst"
   ]
  },
  {
   "cell_type": "code",
   "execution_count": 59,
   "id": "ab4f80dd",
   "metadata": {},
   "outputs": [],
   "source": [
    "def check_perfect(fit_lst,list1,list2,list3,list4):\n",
    "    for i in range(4):\n",
    "        if(fit_lst[i] == 8):\n",
    "            if(i == 0):\n",
    "                print(\"Problem Solved with \",list1)\n",
    "                quit()\n",
    "            elif(i==1):\n",
    "                print(\"Problem Solved with \",list2)\n",
    "                quit()\n",
    "            elif(i == 2):\n",
    "                print(\"Problem Solved with \",list3)\n",
    "                quit()\n",
    "            else:\n",
    "                print(\"Problem Solved with \",list4)\n",
    "                quit()\n",
    "    "
   ]
  },
  {
   "cell_type": "code",
   "execution_count": 58,
   "id": "f324abf9",
   "metadata": {
    "scrolled": true
   },
   "outputs": [
    {
     "name": "stdout",
     "output_type": "stream",
     "text": [
      "[1, 3, 2, 2, 2, 3, 6, 4] [4, 7, 4, 6, 6, 1, 2, 3] [2, 7, 2, 1, 4, 6, 7, 7] [3, 1, 2, 3, 5, 2, 1, 2]\n",
      "2\n",
      "0\n"
     ]
    },
    {
     "ename": "IndexError",
     "evalue": "list assignment index out of range",
     "output_type": "error",
     "traceback": [
      "\u001b[0;31m---------------------------------------------------------------------------\u001b[0m",
      "\u001b[0;31mIndexError\u001b[0m                                Traceback (most recent call last)",
      "Input \u001b[0;32mIn [58]\u001b[0m, in \u001b[0;36m<cell line: 12>\u001b[0;34m()\u001b[0m\n\u001b[1;32m     50\u001b[0m \u001b[38;5;28;01mwhile\u001b[39;00m(\u001b[38;5;28;01mTrue\u001b[39;00m):\n\u001b[1;32m     51\u001b[0m     \u001b[38;5;28;01mif\u001b[39;00m(other_half \u001b[38;5;241m==\u001b[39m \u001b[38;5;28;01mFalse\u001b[39;00m):\n\u001b[0;32m---> 52\u001b[0m         list3 \u001b[38;5;241m=\u001b[39m \u001b[43mmutationAndCrossover\u001b[49m\u001b[43m(\u001b[49m\u001b[43mlist1\u001b[49m\u001b[43m,\u001b[49m\u001b[43mlist2\u001b[49m\u001b[43m,\u001b[49m\u001b[43mother_half\u001b[49m\u001b[43m)\u001b[49m\n\u001b[1;32m     53\u001b[0m         other_half \u001b[38;5;241m=\u001b[39m \u001b[38;5;28;01mTrue\u001b[39;00m\n\u001b[1;32m     54\u001b[0m     \u001b[38;5;28;01melse\u001b[39;00m:\n",
      "Input \u001b[0;32mIn [50]\u001b[0m, in \u001b[0;36mmutationAndCrossover\u001b[0;34m(l1, l2, flag)\u001b[0m\n\u001b[1;32m      3\u001b[0m \u001b[38;5;28;01mif\u001b[39;00m(flag \u001b[38;5;241m==\u001b[39m \u001b[38;5;28;01mFalse\u001b[39;00m):\n\u001b[1;32m      4\u001b[0m     new_list \u001b[38;5;241m=\u001b[39m Crossover(l1,l2)\n\u001b[0;32m----> 5\u001b[0m     new_lst \u001b[38;5;241m=\u001b[39m \u001b[43mmutation\u001b[49m\u001b[43m(\u001b[49m\u001b[43mnew_lst\u001b[49m\u001b[43m)\u001b[49m\n\u001b[1;32m      6\u001b[0m     \u001b[38;5;28;01mreturn\u001b[39;00m new_lst\n\u001b[1;32m      7\u001b[0m \u001b[38;5;28;01melse\u001b[39;00m:\n",
      "Input \u001b[0;32mIn [48]\u001b[0m, in \u001b[0;36mmutation\u001b[0;34m(lis)\u001b[0m\n\u001b[1;32m      1\u001b[0m \u001b[38;5;28;01mdef\u001b[39;00m \u001b[38;5;21mmutation\u001b[39m(lis):\n\u001b[0;32m----> 2\u001b[0m     lis[random\u001b[38;5;241m.\u001b[39mrandint(\u001b[38;5;241m0\u001b[39m,\u001b[38;5;241m7\u001b[39m)] \u001b[38;5;241m=\u001b[39m random\u001b[38;5;241m.\u001b[39mrandint(\u001b[38;5;241m1\u001b[39m,\u001b[38;5;241m8\u001b[39m)\n\u001b[1;32m      3\u001b[0m     \u001b[38;5;28;01mreturn\u001b[39;00m lis\n",
      "\u001b[0;31mIndexError\u001b[0m: list assignment index out of range"
     ]
    }
   ],
   "source": [
    "list1 = []\n",
    "list2 = []\n",
    "list3 = []\n",
    "list4 = []\n",
    "clist = []\n",
    "list1 = gen_list()\n",
    "list2 = gen_list()\n",
    "list3 = gen_list()\n",
    "list4 = gen_list()\n",
    "print(list1,list2,list3,list4)\n",
    "c3 =0\n",
    "while(c3 <1000):\n",
    "    clist.append(check_fit(list1))\n",
    "    clist.append(check_fit(list2))\n",
    "    clist.append(check_fit(list3))\n",
    "    clist.append(check_fit(list4))\n",
    "    check_perfect(clist,list1,list2,list3,list4)\n",
    "    c = max(clist)\n",
    "    index = clist.index(c)\n",
    "    if(index == 0):\n",
    "        list1 = list1\n",
    "    elif(index == 1):\n",
    "        list1 = list2\n",
    "    elif(index == 2):\n",
    "        list1 = list3\n",
    "    elif(index == 3):\n",
    "        list1 = list4    \n",
    "    print(c)\n",
    "    clist[index] = -999\n",
    "    c1 = max(clist)\n",
    "    index1 = clist.index(c1)\n",
    "    if(index1 == 0):\n",
    "        list2 = list1\n",
    "    elif(index1 == 1):\n",
    "        list2 = list2\n",
    "    elif(index1 == 2):\n",
    "        list2 = list3\n",
    "    elif(index1 == 3):\n",
    "        list2 = list4    \n",
    "    clist[index1] = -9999\n",
    "    print(c1)\n",
    "    if(c3 >= 1000):\n",
    "        if(c > c1):\n",
    "            print (list1)\n",
    "            print(\"fitness\",c)\n",
    "        else:\n",
    "            print(list2)\n",
    "            print(\"fitness\",c1)\n",
    "    other_half = False\n",
    "    while(True):\n",
    "        if(other_half == False):\n",
    "            list3 = mutationAndCrossover(list1,list2,other_half)\n",
    "            other_half = True\n",
    "        else:\n",
    "            list4 = mutationAndCrossover(list1,list2,other_half)\n",
    "            break\n",
    "    c3 = c3+1        \n"
   ]
  },
  {
   "cell_type": "code",
   "execution_count": null,
   "id": "a288d720",
   "metadata": {},
   "outputs": [],
   "source": []
  },
  {
   "cell_type": "code",
   "execution_count": null,
   "id": "9c5cc050",
   "metadata": {},
   "outputs": [],
   "source": []
  }
 ],
 "metadata": {
  "kernelspec": {
   "display_name": "Python 3 (ipykernel)",
   "language": "python",
   "name": "python3"
  },
  "language_info": {
   "codemirror_mode": {
    "name": "ipython",
    "version": 3
   },
   "file_extension": ".py",
   "mimetype": "text/x-python",
   "name": "python",
   "nbconvert_exporter": "python",
   "pygments_lexer": "ipython3",
   "version": "3.9.12"
  }
 },
 "nbformat": 4,
 "nbformat_minor": 5
}
